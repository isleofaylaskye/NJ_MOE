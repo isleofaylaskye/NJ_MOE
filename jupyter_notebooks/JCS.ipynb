{
 "cells": [
  {
   "cell_type": "code",
   "execution_count": null,
   "id": "2ee851ee",
   "metadata": {},
   "outputs": [],
   "source": [
    "#Create designation change column for each of the four categories for ease of mapping\n",
    "import pandas as pd\n",
    "import os\n",
    "\n",
    "# Define input and output file paths\n",
    "input_file_name = 'bounds_percent_low_income_MG.csv'\n",
    "input_csv = f\"{ipath}/{input_file_name}\" \n",
    "output_file_name = 'numerical_designation_percent_low_income_MG.csv'\n",
    "output_csv = f\"{opath}/{output_file_name}\" \n",
    "\n",
    "# Function to determine the designation change\n",
    "def determine_designation_change(row):\n",
    "    estimate = row['Percent low income']\n",
    "    upper_bound = row['Upper bound']\n",
    "    lower_bound = row['Lower bound']\n",
    "    \n",
    "    if estimate < 0.35 and upper_bound < 0.35:\n",
    "        return 1\n",
    "    elif estimate > 0.35 and lower_bound > 0.35:\n",
    "        return 2\n",
    "    elif estimate < 0.35 and upper_bound > 0.35:\n",
    "        return 3\n",
    "    elif estimate > 0.35 and lower_bound < 0.35:\n",
    "        return 4\n",
    "    else:\n",
    "        return None  # in case the row does not meet any condition, though logically this shouldn't happen\n",
    "\n",
    "#Read the input file\n",
    "data = pd.read_csv(input_csv)\n",
    "\n",
    "# Apply the function to each row to create the new column\n",
    "data['Designation Change'] = data.apply(determine_designation_change, axis=1)\n",
    "\n",
    "# Count the number of rows assigned to each designation category\n",
    "counts = data['Designation Change'].value_counts().sort_index()\n",
    "\n",
    "# Print the counts\n",
    "print(\"Number of rows sorted into each designation category:\")\n",
    "for designation, count in counts.items():\n",
    "    print(f\"Designation {designation}: {count} rows\")\n",
    "\n",
    "# Print rows that were not assigned any designation\n",
    "not_assigned = data[data['Designation Change'].isnull()]\n",
    "print(\"\\nRows not assigned any designation:\")\n",
    "print(not_assigned)\n",
    "\n",
    "# Write the output to a new CSV file\n",
    "data.to_csv(output_csv, index=False)\n",
    "\n",
    "print(f\"Output written to {output_csv}\")"
   ]
  },
  {
   "cell_type": "code",
   "execution_count": 1,
   "id": "4d1ced3b",
   "metadata": {},
   "outputs": [],
   "source": [
    "import pandas as pd\n",
    "import os\n",
    "import csv\n",
    "\n",
    "# Define input and output file paths\n",
    "path = os.path.join(os.path.dirname(os.getcwd()))\n",
    "path='/Users/ayla/workflow'\n",
    "ipath = os.path.join(path,'data')\n",
    "opath = os.path.join(path,'data')\n",
    "input_file_dir=os.path.join(ipath)\n",
    "output_file_dir=os.path.join(opath)"
   ]
  },
  {
   "cell_type": "code",
   "execution_count": 4,
   "id": "80960dee",
   "metadata": {},
   "outputs": [
    {
     "name": "stdout",
     "output_type": "stream",
     "text": [
      "Output written to /Users/ayla/workflow/data/binary_designation_classes.shp\n"
     ]
    }
   ],
   "source": [
    "import geopandas as gpd\n",
    "\n",
    "# Define input and output file paths\n",
    "input_shapefile = f\"{ipath}/low_income_OBC_designation.shp\"\n",
    "output_shapefile = f\"{opath}/binary_designation_classes.shp\"\n",
    "\n",
    "# Read the input shapefile\n",
    "data = gpd.read_file(input_shapefile)\n",
    "\n",
    "# Create binary columns for each designation category\n",
    "data['1_BJCS_ID'] = (data['Designatio'] == 1).astype(int)\n",
    "data['2_BJCS_ID'] = (data['Designatio'] == 2).astype(int)\n",
    "data['3_BJCS_ID'] = (data['Designatio'] == 3).astype(int)\n",
    "data['4_BJCS_ID'] = (data['Designatio'] == 4).astype(int)\n",
    "\n",
    "# Write the output to a new shapefile\n",
    "data.to_file(output_shapefile)\n",
    "\n",
    "print(f\"Output written to {output_shapefile}\")\n"
   ]
  }
 ],
 "metadata": {
  "kernelspec": {
   "display_name": "Python 3 (ipykernel)",
   "language": "python",
   "name": "python3"
  },
  "language_info": {
   "codemirror_mode": {
    "name": "ipython",
    "version": 3
   },
   "file_extension": ".py",
   "mimetype": "text/x-python",
   "name": "python",
   "nbconvert_exporter": "python",
   "pygments_lexer": "ipython3",
   "version": "3.9.6"
  }
 },
 "nbformat": 4,
 "nbformat_minor": 5
}
