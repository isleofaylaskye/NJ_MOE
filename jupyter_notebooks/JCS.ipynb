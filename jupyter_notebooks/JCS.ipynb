{
 "cells": [
  {
   "cell_type": "markdown",
   "id": "7ce2e539",
   "metadata": {},
   "source": [
    "# Summary\n",
    "\n",
    "Creates a shapefile with binary designations for joint count statistics in Geoda"
   ]
  },
  {
   "cell_type": "code",
   "execution_count": 1,
   "id": "4d1ced3b",
   "metadata": {},
   "outputs": [],
   "source": [
    "import pandas as pd\n",
    "import os\n",
    "import csv\n",
    "\n",
    "# Define input and output file paths\n",
    "path = os.path.join(os.path.dirname(os.getcwd()))\n",
    "path='/Users/ayla/workflow'\n",
    "ipath = os.path.join(path,'data')\n",
    "opath = os.path.join(path,'data')\n",
    "input_file_dir=os.path.join(ipath)\n",
    "output_file_dir=os.path.join(opath)"
   ]
  },
  {
   "cell_type": "markdown",
   "id": "d7a65c50",
   "metadata": {},
   "source": [
    "INPUT: low_income_OBC_designation.shp\n",
    "\n",
    "OUTPUT: binary_designation_classes.shp\n",
    "\n",
    "LOGIC: In addition to the columm with designations 1-4, create a new column for each designation in which that designation equals 1 and all other designations = 0"
   ]
  },
  {
   "cell_type": "code",
   "execution_count": 4,
   "id": "80960dee",
   "metadata": {},
   "outputs": [
    {
     "name": "stdout",
     "output_type": "stream",
     "text": [
      "Output written to /Users/ayla/workflow/data/binary_designation_classes.shp\n"
     ]
    }
   ],
   "source": [
    "import geopandas as gpd\n",
    "\n",
    "# Define input and output file paths\n",
    "input_shapefile = f\"{ipath}/low_income_OBC_designation.shp\"\n",
    "output_shapefile = f\"{opath}/binary_designation_classes.shp\"\n",
    "\n",
    "# Read the input shapefile\n",
    "data = gpd.read_file(input_shapefile)\n",
    "\n",
    "# Create binary columns for each designation category\n",
    "data['1_BJCS_ID'] = (data['Designatio'] == 1).astype(int)\n",
    "data['2_BJCS_ID'] = (data['Designatio'] == 2).astype(int)\n",
    "data['3_BJCS_ID'] = (data['Designatio'] == 3).astype(int)\n",
    "data['4_BJCS_ID'] = (data['Designatio'] == 4).astype(int)\n",
    "\n",
    "# Write the output to a new shapefile\n",
    "data.to_file(output_shapefile)\n",
    "\n",
    "print(f\"Output written to {output_shapefile}\")\n"
   ]
  }
 ],
 "metadata": {
  "kernelspec": {
   "display_name": "Python 3 (ipykernel)",
   "language": "python",
   "name": "python3"
  },
  "language_info": {
   "codemirror_mode": {
    "name": "ipython",
    "version": 3
   },
   "file_extension": ".py",
   "mimetype": "text/x-python",
   "name": "python",
   "nbconvert_exporter": "python",
   "pygments_lexer": "ipython3",
   "version": "3.9.6"
  }
 },
 "nbformat": 4,
 "nbformat_minor": 5
}
