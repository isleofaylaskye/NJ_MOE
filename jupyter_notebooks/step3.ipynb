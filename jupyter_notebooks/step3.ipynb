{
 "cells": [
  {
   "cell_type": "code",
   "execution_count": 2,
   "metadata": {},
   "outputs": [
    {
     "name": "stdout",
     "output_type": "stream",
     "text": [
      "Identified row pairs where ORDER = 8 estimate is zero and ORDER = 1 estimate is non-zero:\n",
      "                      GEOID  ORDER  ESTIMATE  Var_Rep1  Var_Rep2\n",
      "3260  1500000US340076105001      1       147       109       135\n",
      "3261  1500000US340076105001      8         0         0         0\n",
      "3326  1500000US340076115003      1        78        99        79\n",
      "3327  1500000US340076115003      8         0         0         0\n",
      "5104  1500000US340139801001      1         4         4         4\n",
      "5105  1500000US340139801001      8         0         0         0\n",
      "5138  1500000US340155002043      1        54        40        48\n",
      "5139  1500000US340155002043      8         0         0         0\n",
      "5496  1500000US340155020026      1        11        10         1\n",
      "5497  1500000US340155020026      8         0         0         0\n",
      "5522  1500000US340155024001      1         4        15         0\n",
      "5523  1500000US340155024001      8         0         0         0\n",
      "5846  1500000US340170067002      1       160       157       214\n",
      "5847  1500000US340170067002      8         0         0         0\n",
      "6660  1500000US340210004002      1       395       213       514\n",
      "6661  1500000US340210004002      8         0         0         0\n",
      "6722  1500000US340210013001      1       294       292       303\n",
      "6723  1500000US340210013001      8         0         0         0\n",
      "6984  1500000US340210037072      1        14         5        14\n",
      "6985  1500000US340210037072      8         0         0         0\n",
      "7166  1500000US340210045011      1        54        53        53\n",
      "7167  1500000US340210045011      8         0         0         0\n"
     ]
    }
   ],
   "source": [
    "#order = 8 has an estimate that equals zero, but order = 1 has a non-zero estimate\n",
    "# some comments\n",
    "import pandas as pd\n",
    "\n",
    "# Load the CSV file\n",
    "csv_file = '/Users/ayla/src/CPREE_MOE/CI_data/CI_input/edited_VRE_complete_NJ.csv'  # Replace with your CSV file path\n",
    "data = pd.read_csv(csv_file)\n",
    "\n",
    "# Initialize a list to store the identified pairs\n",
    "identified_pairs = []\n",
    "\n",
    "# Iterate over the dataframe, processing each pair of rows\n",
    "for i in range(1, data.shape[0], 2):\n",
    "    if data.iloc[i-1, 1] == 1 and data.iloc[i, 1] == 8 and data.iloc[i-1, 0] == data.iloc[i, 0]:\n",
    "        # Extract the GEOID for the current pair\n",
    "        geoid = data.iloc[i-1, 0]\n",
    "        \n",
    "        # Extract the estimates for the current pair\n",
    "        estimate_order_1 = data.iloc[i-1]['ESTIMATE']\n",
    "        estimate_order_8 = data.iloc[i]['ESTIMATE']\n",
    "        \n",
    "        # Check if ORDER = 8 estimate is zero and ORDER = 1 estimate is non-zero\n",
    "        if estimate_order_8 == 0 and estimate_order_1 != 0:\n",
    "            # Append the rows to the identified_pairs list\n",
    "            identified_pairs.append(data.iloc[i-1, :5])\n",
    "            identified_pairs.append(data.iloc[i, :5])\n",
    "\n",
    "# Convert the list of identified pairs to a DataFrame for easier visualization\n",
    "identified_pairs_df = pd.DataFrame(identified_pairs)\n",
    "\n",
    "# Print the identified pairs\n",
    "print(\"Identified row pairs where ORDER = 8 estimate is zero and ORDER = 1 estimate is non-zero:\")\n",
    "print(identified_pairs_df)"
   ]
  }
 ],
 "metadata": {
  "kernelspec": {
   "display_name": ".venv",
   "language": "python",
   "name": "python3"
  },
  "language_info": {
   "codemirror_mode": {
    "name": "ipython",
    "version": 3
   },
   "file_extension": ".py",
   "mimetype": "text/x-python",
   "name": "python",
   "nbconvert_exporter": "python",
   "pygments_lexer": "ipython3",
   "version": "3.9.6"
  }
 },
 "nbformat": 4,
 "nbformat_minor": 2
}
