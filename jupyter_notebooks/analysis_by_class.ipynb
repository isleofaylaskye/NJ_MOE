{
 "cells": [
  {
   "cell_type": "markdown",
   "id": "c70b3cd2",
   "metadata": {},
   "source": [
    "# Define file path"
   ]
  },
  {
   "cell_type": "code",
   "execution_count": null,
   "id": "267dc022",
   "metadata": {},
   "outputs": [],
   "source": [
    "import pandas as pd\n",
    "import os\n",
    "import csv\n",
    "\n",
    "# Define input and output file paths\n",
    "path = os.path.join(os.path.dirname(os.getcwd()))\n",
    "path='/Users/ayla/workflow'\n",
    "ipath = os.path.join(path,'data')\n",
    "opath = os.path.join(path,'data')\n",
    "input_file_dir=os.path.join(ipath)\n",
    "output_file_dir=os.path.join(opath)"
   ]
  },
  {
   "cell_type": "markdown",
   "id": "0e0ef085",
   "metadata": {},
   "source": [
    "# Data Processing"
   ]
  },
  {
   "cell_type": "markdown",
   "id": "f0822e91",
   "metadata": {},
   "source": [
    "Create four new csv files, one for each BG class (remains OBC, becomes OBC, etc.) that will be used to analyze the data by class"
   ]
  },
  {
   "cell_type": "code",
   "execution_count": null,
   "id": "6f7c9307",
   "metadata": {},
   "outputs": [],
   "source": [
    "#create 4 seperate csv files, one for each BG class\n",
    "import pandas as pd\n",
    "import os\n",
    "\n",
    "# Ensure that opath is defined\n",
    "opath = '/path/to/output'  # Define your output path\n",
    "\n",
    "# Define input file path (output of the previous script)\n",
    "input_file_name = 'numerical_designation_percent_low_income_MG.csv'\n",
    "input_csv = f\"{opath}/{input_file_name}\"\n",
    "\n",
    "# Read the input file\n",
    "try:\n",
    "    data = pd.read_csv(input_csv)\n",
    "\n",
    "    # Loop through each designation and create separate CSV files\n",
    "    for designation in range(1, 5):\n",
    "        designation_data = data[data['Designation Change'] == designation]\n",
    "        output_file_name = f'designation_{designation}_data.csv'\n",
    "        output_csv = f\"{opath}/{output_file_name}\"\n",
    "        \n",
    "        # Write the filtered data to the new CSV file\n",
    "        designation_data.to_csv(output_csv, index=False)\n",
    "        \n",
    "        print(f\"Data for designation {designation} written to {output_csv}\")\n",
    "\n",
    "except FileNotFoundError as e:\n",
    "    print(f\"File not found: {e}\")\n",
    "except pd.errors.EmptyDataError as e:\n",
    "    print(f\"No data: {e}\")\n",
    "except Exception as e:\n",
    "    print(f\"An error occurred: {e}\")"
   ]
  },
  {
   "cell_type": "code",
   "execution_count": null,
   "id": "9c22222e-6709-467c-99c8-21de0b094c7f",
   "metadata": {},
   "outputs": [],
   "source": [
    "# plot low-income percent on the x-axis (least to greatest) and MOE on the y axis\n",
    "import pandas as pd\n",
    "import matplotlib.pyplot as plt\n",
    "\n",
    "#Define input file path\n",
    "input_file = 'percent_low_income_modified_GEOID.csv'\n",
    "input_csv_file = f'{ipath}/{input_file}'\n",
    "\n",
    "# Step 1: Load the CSV data\n",
    "data = pd.read_csv(input_csv_file)\n",
    "\n",
    "# Step 2: Sort by Inverse Percent from least to greatest\n",
    "data_sorted = data.sort_values(by='Percent low income')\n",
    "\n",
    "# Step 3: Plotting\n",
    "plt.figure(figsize=(12, 8))\n",
    "plt.plot(data_sorted['Percent low income'], data_sorted['Margin of Error'], marker='o', linestyle='-', color='b')\n",
    "plt.xlabel('Percent low income (Sorted)')\n",
    "plt.ylabel('Margin of Error')\n",
    "plt.title('Percent low income vs Margin of Error')\n",
    "plt.grid(True)\n",
    "\n",
    "plt.ylim(0, 0.6)\n",
    "\n",
    "#mark 35% threshhold\n",
    "plt.axvline(x=0.35, color='red', linestyle='--', linewidth=2)\n",
    "plt.tight_layout()\n",
    "\n",
    "# Show the plot\n",
    "plt.show()"
   ]
  }
 ],
 "metadata": {
  "kernelspec": {
   "display_name": "Python 3 (ipykernel)",
   "language": "python",
   "name": "python3"
  },
  "language_info": {
   "codemirror_mode": {
    "name": "ipython",
    "version": 3
   },
   "file_extension": ".py",
   "mimetype": "text/x-python",
   "name": "python",
   "nbconvert_exporter": "python",
   "pygments_lexer": "ipython3",
   "version": "3.11.7"
  }
 },
 "nbformat": 4,
 "nbformat_minor": 5
}
